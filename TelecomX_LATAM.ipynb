{
  "nbformat": 4,
  "nbformat_minor": 0,
  "metadata": {
    "colab": {
      "provenance": []
    },
    "kernelspec": {
      "name": "python3",
      "display_name": "Python 3"
    },
    "language_info": {
      "name": "python"
    }
  },
  "cells": [
    {
      "cell_type": "markdown",
      "source": [
        "#📌 Extracción"
      ],
      "metadata": {
        "id": "4foVEKhrlqcH"
      }
    },
    {
      "cell_type": "markdown",
      "source": [
        "### 📦 Importar librerías"
      ],
      "metadata": {
        "id": "3fgjCJDYURTk"
      }
    },
    {
      "cell_type": "code",
      "source": [
        "import pandas as pd\n",
        "import requests\n",
        "import matplotlib.pyplot as plt\n",
        "import seaborn as sns"
      ],
      "metadata": {
        "id": "1--uPM88l7JH"
      },
      "execution_count": 8,
      "outputs": []
    },
    {
      "cell_type": "markdown",
      "source": [
        "## 🔗 Leer JSON desde la URL"
      ],
      "metadata": {
        "id": "Z7OZNK19UZn9"
      }
    },
    {
      "cell_type": "code",
      "source": [
        "url = 'https://raw.githubusercontent.com/Cesar-Curitol/challenge2-data-science-LATAM-Cesar/refs/heads/main/TelecomX_Data.json'\n",
        "response = requests.get(url)\n",
        "\n",
        "if response.status_code == 200:\n",
        "    datos = pd.read_json(response.text)\n",
        "    print(\"✅ Datos cargados correctamente\")\n",
        "else:\n",
        "    raise Exception(f\"❌ Error al cargar datos: {response.status_code}\")"
      ],
      "metadata": {
        "colab": {
          "base_uri": "https://localhost:8080/"
        },
        "id": "5bCzQ2VQRsLc",
        "outputId": "25b24163-1938-47b9-98ab-7f458eb3f1cd"
      },
      "execution_count": 9,
      "outputs": [
        {
          "output_type": "stream",
          "name": "stdout",
          "text": [
            "✅ Datos cargados correctamente\n"
          ]
        },
        {
          "output_type": "stream",
          "name": "stderr",
          "text": [
            "/tmp/ipython-input-9-3258372304.py:6: FutureWarning: Passing literal json to 'read_json' is deprecated and will be removed in a future version. To read from a literal string, wrap it in a 'StringIO' object.\n",
            "  datos = pd.read_json(response.text)\n"
          ]
        }
      ]
    },
    {
      "cell_type": "code",
      "source": [
        "datos = pd.concat([\n",
        "    datos[['customerID', 'Churn']],\n",
        "    pd.json_normalize(datos['customer']),\n",
        "    pd.json_normalize(datos['phone']),\n",
        "    pd.json_normalize(datos['internet']),\n",
        "    pd.json_normalize(datos['account'])\n",
        "], axis=1)\n"
      ],
      "metadata": {
        "id": "xHU1rFnNL6H9"
      },
      "execution_count": 10,
      "outputs": []
    },
    {
      "cell_type": "markdown",
      "source": [
        "#🔧 Transformación"
      ],
      "metadata": {
        "id": "1lSZP8zmmGZu"
      }
    },
    {
      "cell_type": "markdown",
      "source": [
        "##📌 Conocer el conjunto de datos"
      ],
      "metadata": {
        "id": "yIH26ulcQRVZ"
      }
    },
    {
      "cell_type": "code",
      "source": [
        "print(\"Tipo:\", type(datos))\n",
        "print(\"Forma:\", datos.shape)\n",
        "print(\"Columnas:\", datos.columns)\n",
        "print(\"\\nInfo:\")\n",
        "print(datos.info())"
      ],
      "metadata": {
        "colab": {
          "base_uri": "https://localhost:8080/"
        },
        "id": "lLFP6wbyKX8x",
        "outputId": "070f8fbd-8418-4ece-fd39-2d301af9fee0"
      },
      "execution_count": 11,
      "outputs": [
        {
          "output_type": "stream",
          "name": "stdout",
          "text": [
            "Tipo: <class 'pandas.core.frame.DataFrame'>\n",
            "Forma: (7267, 21)\n",
            "Columnas: Index(['customerID', 'Churn', 'gender', 'SeniorCitizen', 'Partner',\n",
            "       'Dependents', 'tenure', 'PhoneService', 'MultipleLines',\n",
            "       'InternetService', 'OnlineSecurity', 'OnlineBackup', 'DeviceProtection',\n",
            "       'TechSupport', 'StreamingTV', 'StreamingMovies', 'Contract',\n",
            "       'PaperlessBilling', 'PaymentMethod', 'Charges.Monthly',\n",
            "       'Charges.Total'],\n",
            "      dtype='object')\n",
            "\n",
            "Info:\n",
            "<class 'pandas.core.frame.DataFrame'>\n",
            "RangeIndex: 7267 entries, 0 to 7266\n",
            "Data columns (total 21 columns):\n",
            " #   Column            Non-Null Count  Dtype  \n",
            "---  ------            --------------  -----  \n",
            " 0   customerID        7267 non-null   object \n",
            " 1   Churn             7267 non-null   object \n",
            " 2   gender            7267 non-null   object \n",
            " 3   SeniorCitizen     7267 non-null   int64  \n",
            " 4   Partner           7267 non-null   object \n",
            " 5   Dependents        7267 non-null   object \n",
            " 6   tenure            7267 non-null   int64  \n",
            " 7   PhoneService      7267 non-null   object \n",
            " 8   MultipleLines     7267 non-null   object \n",
            " 9   InternetService   7267 non-null   object \n",
            " 10  OnlineSecurity    7267 non-null   object \n",
            " 11  OnlineBackup      7267 non-null   object \n",
            " 12  DeviceProtection  7267 non-null   object \n",
            " 13  TechSupport       7267 non-null   object \n",
            " 14  StreamingTV       7267 non-null   object \n",
            " 15  StreamingMovies   7267 non-null   object \n",
            " 16  Contract          7267 non-null   object \n",
            " 17  PaperlessBilling  7267 non-null   object \n",
            " 18  PaymentMethod     7267 non-null   object \n",
            " 19  Charges.Monthly   7267 non-null   float64\n",
            " 20  Charges.Total     7267 non-null   object \n",
            "dtypes: float64(1), int64(2), object(18)\n",
            "memory usage: 1.2+ MB\n",
            "None\n"
          ]
        }
      ]
    },
    {
      "cell_type": "markdown",
      "source": [
        "##📌 Limpieza"
      ],
      "metadata": {
        "id": "WgBBwKukQtOj"
      }
    },
    {
      "cell_type": "code",
      "source": [
        "datos['Churn'] = datos['Churn'].replace('', pd.NA)\n",
        "datos = datos.dropna(subset=['Churn'])"
      ],
      "metadata": {
        "id": "Jno7DgVAMjh1"
      },
      "execution_count": 12,
      "outputs": []
    },
    {
      "cell_type": "markdown",
      "source": [
        "##📌 Crear columna \"Cuentas_Diarias\""
      ],
      "metadata": {
        "id": "7MabgMn6Q09s"
      }
    },
    {
      "cell_type": "code",
      "source": [
        "datos['Charges.Total'] = pd.to_numeric(datos['Charges.Total'], errors='coerce')\n",
        "datos['Cuentas_Diarias'] = datos['Charges.Monthly'] / 30\n"
      ],
      "metadata": {
        "id": "GnIl5-GzI0KP"
      },
      "execution_count": 13,
      "outputs": []
    },
    {
      "cell_type": "markdown",
      "source": [
        "##📌 Estandarización"
      ],
      "metadata": {
        "id": "baK0W_FHQ63P"
      }
    },
    {
      "cell_type": "code",
      "source": [
        "bin_cols = ['Partner', 'Dependents', 'PhoneService', 'PaperlessBilling', 'Churn']\n",
        "for col in bin_cols:\n",
        "    datos[col] = datos[col].map({'Yes': 1, 'No': 0})\n",
        "\n",
        "datos.rename(columns={\n",
        "    'tenure': 'TenureMeses',\n",
        "    'Charges.Monthly': 'CargoMensual',\n",
        "    'Charges.Total': 'CargoTotal'\n",
        "}, inplace=True)\n"
      ],
      "metadata": {
        "id": "4lmc21EJI0CN"
      },
      "execution_count": 14,
      "outputs": []
    },
    {
      "cell_type": "markdown",
      "source": [
        "#📊 Carga y análisis"
      ],
      "metadata": {
        "id": "6XnTC2NTmMRL"
      }
    },
    {
      "cell_type": "markdown",
      "source": [
        "##📌 Análisis descriptivo"
      ],
      "metadata": {
        "id": "l3ZxBzuzSizz"
      }
    },
    {
      "cell_type": "code",
      "source": [
        "datos.describe()\n"
      ],
      "metadata": {
        "id": "1jgUnLqTmPdd",
        "colab": {
          "base_uri": "https://localhost:8080/",
          "height": 297
        },
        "outputId": "69e83881-c417-4900-eff3-946089ec0fd3"
      },
      "execution_count": 15,
      "outputs": [
        {
          "output_type": "execute_result",
          "data": {
            "text/plain": [
              "             Churn  SeniorCitizen      Partner   Dependents  TenureMeses  \\\n",
              "count  7043.000000    7043.000000  7043.000000  7043.000000  7043.000000   \n",
              "mean      0.265370       0.162147     0.483033     0.299588    32.371149   \n",
              "std       0.441561       0.368612     0.499748     0.458110    24.559481   \n",
              "min       0.000000       0.000000     0.000000     0.000000     0.000000   \n",
              "25%       0.000000       0.000000     0.000000     0.000000     9.000000   \n",
              "50%       0.000000       0.000000     0.000000     0.000000    29.000000   \n",
              "75%       1.000000       0.000000     1.000000     1.000000    55.000000   \n",
              "max       1.000000       1.000000     1.000000     1.000000    72.000000   \n",
              "\n",
              "       PhoneService  PaperlessBilling  CargoMensual   CargoTotal  \\\n",
              "count   7043.000000       7043.000000   7043.000000  7032.000000   \n",
              "mean       0.903166          0.592219     64.761692  2283.300441   \n",
              "std        0.295752          0.491457     30.090047  2266.771362   \n",
              "min        0.000000          0.000000     18.250000    18.800000   \n",
              "25%        1.000000          0.000000     35.500000   401.450000   \n",
              "50%        1.000000          1.000000     70.350000  1397.475000   \n",
              "75%        1.000000          1.000000     89.850000  3794.737500   \n",
              "max        1.000000          1.000000    118.750000  8684.800000   \n",
              "\n",
              "       Cuentas_Diarias  \n",
              "count      7043.000000  \n",
              "mean          2.158723  \n",
              "std           1.003002  \n",
              "min           0.608333  \n",
              "25%           1.183333  \n",
              "50%           2.345000  \n",
              "75%           2.995000  \n",
              "max           3.958333  "
            ],
            "text/html": [
              "\n",
              "  <div id=\"df-eaa64efc-5254-4cf8-bc8d-ebf5c34e1e93\" class=\"colab-df-container\">\n",
              "    <div>\n",
              "<style scoped>\n",
              "    .dataframe tbody tr th:only-of-type {\n",
              "        vertical-align: middle;\n",
              "    }\n",
              "\n",
              "    .dataframe tbody tr th {\n",
              "        vertical-align: top;\n",
              "    }\n",
              "\n",
              "    .dataframe thead th {\n",
              "        text-align: right;\n",
              "    }\n",
              "</style>\n",
              "<table border=\"1\" class=\"dataframe\">\n",
              "  <thead>\n",
              "    <tr style=\"text-align: right;\">\n",
              "      <th></th>\n",
              "      <th>Churn</th>\n",
              "      <th>SeniorCitizen</th>\n",
              "      <th>Partner</th>\n",
              "      <th>Dependents</th>\n",
              "      <th>TenureMeses</th>\n",
              "      <th>PhoneService</th>\n",
              "      <th>PaperlessBilling</th>\n",
              "      <th>CargoMensual</th>\n",
              "      <th>CargoTotal</th>\n",
              "      <th>Cuentas_Diarias</th>\n",
              "    </tr>\n",
              "  </thead>\n",
              "  <tbody>\n",
              "    <tr>\n",
              "      <th>count</th>\n",
              "      <td>7043.000000</td>\n",
              "      <td>7043.000000</td>\n",
              "      <td>7043.000000</td>\n",
              "      <td>7043.000000</td>\n",
              "      <td>7043.000000</td>\n",
              "      <td>7043.000000</td>\n",
              "      <td>7043.000000</td>\n",
              "      <td>7043.000000</td>\n",
              "      <td>7032.000000</td>\n",
              "      <td>7043.000000</td>\n",
              "    </tr>\n",
              "    <tr>\n",
              "      <th>mean</th>\n",
              "      <td>0.265370</td>\n",
              "      <td>0.162147</td>\n",
              "      <td>0.483033</td>\n",
              "      <td>0.299588</td>\n",
              "      <td>32.371149</td>\n",
              "      <td>0.903166</td>\n",
              "      <td>0.592219</td>\n",
              "      <td>64.761692</td>\n",
              "      <td>2283.300441</td>\n",
              "      <td>2.158723</td>\n",
              "    </tr>\n",
              "    <tr>\n",
              "      <th>std</th>\n",
              "      <td>0.441561</td>\n",
              "      <td>0.368612</td>\n",
              "      <td>0.499748</td>\n",
              "      <td>0.458110</td>\n",
              "      <td>24.559481</td>\n",
              "      <td>0.295752</td>\n",
              "      <td>0.491457</td>\n",
              "      <td>30.090047</td>\n",
              "      <td>2266.771362</td>\n",
              "      <td>1.003002</td>\n",
              "    </tr>\n",
              "    <tr>\n",
              "      <th>min</th>\n",
              "      <td>0.000000</td>\n",
              "      <td>0.000000</td>\n",
              "      <td>0.000000</td>\n",
              "      <td>0.000000</td>\n",
              "      <td>0.000000</td>\n",
              "      <td>0.000000</td>\n",
              "      <td>0.000000</td>\n",
              "      <td>18.250000</td>\n",
              "      <td>18.800000</td>\n",
              "      <td>0.608333</td>\n",
              "    </tr>\n",
              "    <tr>\n",
              "      <th>25%</th>\n",
              "      <td>0.000000</td>\n",
              "      <td>0.000000</td>\n",
              "      <td>0.000000</td>\n",
              "      <td>0.000000</td>\n",
              "      <td>9.000000</td>\n",
              "      <td>1.000000</td>\n",
              "      <td>0.000000</td>\n",
              "      <td>35.500000</td>\n",
              "      <td>401.450000</td>\n",
              "      <td>1.183333</td>\n",
              "    </tr>\n",
              "    <tr>\n",
              "      <th>50%</th>\n",
              "      <td>0.000000</td>\n",
              "      <td>0.000000</td>\n",
              "      <td>0.000000</td>\n",
              "      <td>0.000000</td>\n",
              "      <td>29.000000</td>\n",
              "      <td>1.000000</td>\n",
              "      <td>1.000000</td>\n",
              "      <td>70.350000</td>\n",
              "      <td>1397.475000</td>\n",
              "      <td>2.345000</td>\n",
              "    </tr>\n",
              "    <tr>\n",
              "      <th>75%</th>\n",
              "      <td>1.000000</td>\n",
              "      <td>0.000000</td>\n",
              "      <td>1.000000</td>\n",
              "      <td>1.000000</td>\n",
              "      <td>55.000000</td>\n",
              "      <td>1.000000</td>\n",
              "      <td>1.000000</td>\n",
              "      <td>89.850000</td>\n",
              "      <td>3794.737500</td>\n",
              "      <td>2.995000</td>\n",
              "    </tr>\n",
              "    <tr>\n",
              "      <th>max</th>\n",
              "      <td>1.000000</td>\n",
              "      <td>1.000000</td>\n",
              "      <td>1.000000</td>\n",
              "      <td>1.000000</td>\n",
              "      <td>72.000000</td>\n",
              "      <td>1.000000</td>\n",
              "      <td>1.000000</td>\n",
              "      <td>118.750000</td>\n",
              "      <td>8684.800000</td>\n",
              "      <td>3.958333</td>\n",
              "    </tr>\n",
              "  </tbody>\n",
              "</table>\n",
              "</div>\n",
              "    <div class=\"colab-df-buttons\">\n",
              "\n",
              "  <div class=\"colab-df-container\">\n",
              "    <button class=\"colab-df-convert\" onclick=\"convertToInteractive('df-eaa64efc-5254-4cf8-bc8d-ebf5c34e1e93')\"\n",
              "            title=\"Convert this dataframe to an interactive table.\"\n",
              "            style=\"display:none;\">\n",
              "\n",
              "  <svg xmlns=\"http://www.w3.org/2000/svg\" height=\"24px\" viewBox=\"0 -960 960 960\">\n",
              "    <path d=\"M120-120v-720h720v720H120Zm60-500h600v-160H180v160Zm220 220h160v-160H400v160Zm0 220h160v-160H400v160ZM180-400h160v-160H180v160Zm440 0h160v-160H620v160ZM180-180h160v-160H180v160Zm440 0h160v-160H620v160Z\"/>\n",
              "  </svg>\n",
              "    </button>\n",
              "\n",
              "  <style>\n",
              "    .colab-df-container {\n",
              "      display:flex;\n",
              "      gap: 12px;\n",
              "    }\n",
              "\n",
              "    .colab-df-convert {\n",
              "      background-color: #E8F0FE;\n",
              "      border: none;\n",
              "      border-radius: 50%;\n",
              "      cursor: pointer;\n",
              "      display: none;\n",
              "      fill: #1967D2;\n",
              "      height: 32px;\n",
              "      padding: 0 0 0 0;\n",
              "      width: 32px;\n",
              "    }\n",
              "\n",
              "    .colab-df-convert:hover {\n",
              "      background-color: #E2EBFA;\n",
              "      box-shadow: 0px 1px 2px rgba(60, 64, 67, 0.3), 0px 1px 3px 1px rgba(60, 64, 67, 0.15);\n",
              "      fill: #174EA6;\n",
              "    }\n",
              "\n",
              "    .colab-df-buttons div {\n",
              "      margin-bottom: 4px;\n",
              "    }\n",
              "\n",
              "    [theme=dark] .colab-df-convert {\n",
              "      background-color: #3B4455;\n",
              "      fill: #D2E3FC;\n",
              "    }\n",
              "\n",
              "    [theme=dark] .colab-df-convert:hover {\n",
              "      background-color: #434B5C;\n",
              "      box-shadow: 0px 1px 3px 1px rgba(0, 0, 0, 0.15);\n",
              "      filter: drop-shadow(0px 1px 2px rgba(0, 0, 0, 0.3));\n",
              "      fill: #FFFFFF;\n",
              "    }\n",
              "  </style>\n",
              "\n",
              "    <script>\n",
              "      const buttonEl =\n",
              "        document.querySelector('#df-eaa64efc-5254-4cf8-bc8d-ebf5c34e1e93 button.colab-df-convert');\n",
              "      buttonEl.style.display =\n",
              "        google.colab.kernel.accessAllowed ? 'block' : 'none';\n",
              "\n",
              "      async function convertToInteractive(key) {\n",
              "        const element = document.querySelector('#df-eaa64efc-5254-4cf8-bc8d-ebf5c34e1e93');\n",
              "        const dataTable =\n",
              "          await google.colab.kernel.invokeFunction('convertToInteractive',\n",
              "                                                    [key], {});\n",
              "        if (!dataTable) return;\n",
              "\n",
              "        const docLinkHtml = 'Like what you see? Visit the ' +\n",
              "          '<a target=\"_blank\" href=https://colab.research.google.com/notebooks/data_table.ipynb>data table notebook</a>'\n",
              "          + ' to learn more about interactive tables.';\n",
              "        element.innerHTML = '';\n",
              "        dataTable['output_type'] = 'display_data';\n",
              "        await google.colab.output.renderOutput(dataTable, element);\n",
              "        const docLink = document.createElement('div');\n",
              "        docLink.innerHTML = docLinkHtml;\n",
              "        element.appendChild(docLink);\n",
              "      }\n",
              "    </script>\n",
              "  </div>\n",
              "\n",
              "\n",
              "    <div id=\"df-a17c2ed9-9df4-4e83-94b9-362c98fcdd7f\">\n",
              "      <button class=\"colab-df-quickchart\" onclick=\"quickchart('df-a17c2ed9-9df4-4e83-94b9-362c98fcdd7f')\"\n",
              "                title=\"Suggest charts\"\n",
              "                style=\"display:none;\">\n",
              "\n",
              "<svg xmlns=\"http://www.w3.org/2000/svg\" height=\"24px\"viewBox=\"0 0 24 24\"\n",
              "     width=\"24px\">\n",
              "    <g>\n",
              "        <path d=\"M19 3H5c-1.1 0-2 .9-2 2v14c0 1.1.9 2 2 2h14c1.1 0 2-.9 2-2V5c0-1.1-.9-2-2-2zM9 17H7v-7h2v7zm4 0h-2V7h2v10zm4 0h-2v-4h2v4z\"/>\n",
              "    </g>\n",
              "</svg>\n",
              "      </button>\n",
              "\n",
              "<style>\n",
              "  .colab-df-quickchart {\n",
              "      --bg-color: #E8F0FE;\n",
              "      --fill-color: #1967D2;\n",
              "      --hover-bg-color: #E2EBFA;\n",
              "      --hover-fill-color: #174EA6;\n",
              "      --disabled-fill-color: #AAA;\n",
              "      --disabled-bg-color: #DDD;\n",
              "  }\n",
              "\n",
              "  [theme=dark] .colab-df-quickchart {\n",
              "      --bg-color: #3B4455;\n",
              "      --fill-color: #D2E3FC;\n",
              "      --hover-bg-color: #434B5C;\n",
              "      --hover-fill-color: #FFFFFF;\n",
              "      --disabled-bg-color: #3B4455;\n",
              "      --disabled-fill-color: #666;\n",
              "  }\n",
              "\n",
              "  .colab-df-quickchart {\n",
              "    background-color: var(--bg-color);\n",
              "    border: none;\n",
              "    border-radius: 50%;\n",
              "    cursor: pointer;\n",
              "    display: none;\n",
              "    fill: var(--fill-color);\n",
              "    height: 32px;\n",
              "    padding: 0;\n",
              "    width: 32px;\n",
              "  }\n",
              "\n",
              "  .colab-df-quickchart:hover {\n",
              "    background-color: var(--hover-bg-color);\n",
              "    box-shadow: 0 1px 2px rgba(60, 64, 67, 0.3), 0 1px 3px 1px rgba(60, 64, 67, 0.15);\n",
              "    fill: var(--button-hover-fill-color);\n",
              "  }\n",
              "\n",
              "  .colab-df-quickchart-complete:disabled,\n",
              "  .colab-df-quickchart-complete:disabled:hover {\n",
              "    background-color: var(--disabled-bg-color);\n",
              "    fill: var(--disabled-fill-color);\n",
              "    box-shadow: none;\n",
              "  }\n",
              "\n",
              "  .colab-df-spinner {\n",
              "    border: 2px solid var(--fill-color);\n",
              "    border-color: transparent;\n",
              "    border-bottom-color: var(--fill-color);\n",
              "    animation:\n",
              "      spin 1s steps(1) infinite;\n",
              "  }\n",
              "\n",
              "  @keyframes spin {\n",
              "    0% {\n",
              "      border-color: transparent;\n",
              "      border-bottom-color: var(--fill-color);\n",
              "      border-left-color: var(--fill-color);\n",
              "    }\n",
              "    20% {\n",
              "      border-color: transparent;\n",
              "      border-left-color: var(--fill-color);\n",
              "      border-top-color: var(--fill-color);\n",
              "    }\n",
              "    30% {\n",
              "      border-color: transparent;\n",
              "      border-left-color: var(--fill-color);\n",
              "      border-top-color: var(--fill-color);\n",
              "      border-right-color: var(--fill-color);\n",
              "    }\n",
              "    40% {\n",
              "      border-color: transparent;\n",
              "      border-right-color: var(--fill-color);\n",
              "      border-top-color: var(--fill-color);\n",
              "    }\n",
              "    60% {\n",
              "      border-color: transparent;\n",
              "      border-right-color: var(--fill-color);\n",
              "    }\n",
              "    80% {\n",
              "      border-color: transparent;\n",
              "      border-right-color: var(--fill-color);\n",
              "      border-bottom-color: var(--fill-color);\n",
              "    }\n",
              "    90% {\n",
              "      border-color: transparent;\n",
              "      border-bottom-color: var(--fill-color);\n",
              "    }\n",
              "  }\n",
              "</style>\n",
              "\n",
              "      <script>\n",
              "        async function quickchart(key) {\n",
              "          const quickchartButtonEl =\n",
              "            document.querySelector('#' + key + ' button');\n",
              "          quickchartButtonEl.disabled = true;  // To prevent multiple clicks.\n",
              "          quickchartButtonEl.classList.add('colab-df-spinner');\n",
              "          try {\n",
              "            const charts = await google.colab.kernel.invokeFunction(\n",
              "                'suggestCharts', [key], {});\n",
              "          } catch (error) {\n",
              "            console.error('Error during call to suggestCharts:', error);\n",
              "          }\n",
              "          quickchartButtonEl.classList.remove('colab-df-spinner');\n",
              "          quickchartButtonEl.classList.add('colab-df-quickchart-complete');\n",
              "        }\n",
              "        (() => {\n",
              "          let quickchartButtonEl =\n",
              "            document.querySelector('#df-a17c2ed9-9df4-4e83-94b9-362c98fcdd7f button');\n",
              "          quickchartButtonEl.style.display =\n",
              "            google.colab.kernel.accessAllowed ? 'block' : 'none';\n",
              "        })();\n",
              "      </script>\n",
              "    </div>\n",
              "\n",
              "    </div>\n",
              "  </div>\n"
            ],
            "application/vnd.google.colaboratory.intrinsic+json": {
              "type": "dataframe",
              "summary": "{\n  \"name\": \"datos\",\n  \"rows\": 8,\n  \"fields\": [\n    {\n      \"column\": \"Churn\",\n      \"properties\": {\n        \"dtype\": \"number\",\n        \"std\": 2489.939844235915,\n        \"min\": 0.0,\n        \"max\": 7043.0,\n        \"num_unique_values\": 5,\n        \"samples\": [\n          0.2653698707936959,\n          1.0,\n          0.4415613051219502\n        ],\n        \"semantic_type\": \"\",\n        \"description\": \"\"\n      }\n    },\n    {\n      \"column\": \"SeniorCitizen\",\n      \"properties\": {\n        \"dtype\": \"number\",\n        \"std\": 2489.9992387084,\n        \"min\": 0.0,\n        \"max\": 7043.0,\n        \"num_unique_values\": 5,\n        \"samples\": [\n          0.1621468124378816,\n          1.0,\n          0.3686116056100278\n        ],\n        \"semantic_type\": \"\",\n        \"description\": \"\"\n      }\n    },\n    {\n      \"column\": \"Partner\",\n      \"properties\": {\n        \"dtype\": \"number\",\n        \"std\": 2489.92591156319,\n        \"min\": 0.0,\n        \"max\": 7043.0,\n        \"num_unique_values\": 5,\n        \"samples\": [\n          0.4830327985233565,\n          1.0,\n          0.49974751072001705\n        ],\n        \"semantic_type\": \"\",\n        \"description\": \"\"\n      }\n    },\n    {\n      \"column\": \"Dependents\",\n      \"properties\": {\n        \"dtype\": \"number\",\n        \"std\": 2489.9372799481184,\n        \"min\": 0.0,\n        \"max\": 7043.0,\n        \"num_unique_values\": 5,\n        \"samples\": [\n          0.2995882436461735,\n          1.0,\n          0.4581101675100069\n        ],\n        \"semantic_type\": \"\",\n        \"description\": \"\"\n      }\n    },\n    {\n      \"column\": \"TenureMeses\",\n      \"properties\": {\n        \"dtype\": \"number\",\n        \"std\": 2478.9752758409018,\n        \"min\": 0.0,\n        \"max\": 7043.0,\n        \"num_unique_values\": 8,\n        \"samples\": [\n          32.37114865824223,\n          29.0,\n          7043.0\n        ],\n        \"semantic_type\": \"\",\n        \"description\": \"\"\n      }\n    },\n    {\n      \"column\": \"PhoneService\",\n      \"properties\": {\n        \"dtype\": \"number\",\n        \"std\": 2489.813974802202,\n        \"min\": 0.0,\n        \"max\": 7043.0,\n        \"num_unique_values\": 5,\n        \"samples\": [\n          0.9031662643759761,\n          1.0,\n          0.2957522317836505\n        ],\n        \"semantic_type\": \"\",\n        \"description\": \"\"\n      }\n    },\n    {\n      \"column\": \"PaperlessBilling\",\n      \"properties\": {\n        \"dtype\": \"number\",\n        \"std\": 2489.8703078652547,\n        \"min\": 0.0,\n        \"max\": 7043.0,\n        \"num_unique_values\": 5,\n        \"samples\": [\n          0.5922192247621753,\n          1.0,\n          0.491456924049444\n        ],\n        \"semantic_type\": \"\",\n        \"description\": \"\"\n      }\n    },\n    {\n      \"column\": \"CargoMensual\",\n      \"properties\": {\n        \"dtype\": \"number\",\n        \"std\": 2468.7047672837775,\n        \"min\": 18.25,\n        \"max\": 7043.0,\n        \"num_unique_values\": 8,\n        \"samples\": [\n          64.76169246059918,\n          70.35,\n          7043.0\n        ],\n        \"semantic_type\": \"\",\n        \"description\": \"\"\n      }\n    },\n    {\n      \"column\": \"CargoTotal\",\n      \"properties\": {\n        \"dtype\": \"number\",\n        \"std\": 3117.312944742373,\n        \"min\": 18.8,\n        \"max\": 8684.8,\n        \"num_unique_values\": 8,\n        \"samples\": [\n          2283.3004408418656,\n          1397.475,\n          7032.0\n        ],\n        \"semantic_type\": \"\",\n        \"description\": \"\"\n      }\n    },\n    {\n      \"column\": \"Cuentas_Diarias\",\n      \"properties\": {\n        \"dtype\": \"number\",\n        \"std\": 2489.3569547105258,\n        \"min\": 0.6083333333333333,\n        \"max\": 7043.0,\n        \"num_unique_values\": 8,\n        \"samples\": [\n          2.1587230820199723,\n          2.3449999999999998,\n          7043.0\n        ],\n        \"semantic_type\": \"\",\n        \"description\": \"\"\n      }\n    }\n  ]\n}"
            }
          },
          "metadata": {},
          "execution_count": 15
        }
      ]
    },
    {
      "cell_type": "markdown",
      "source": [
        "##📌 Distribución de evasión"
      ],
      "metadata": {
        "id": "FpGqyPgNSrtR"
      }
    },
    {
      "cell_type": "code",
      "source": [
        "sns.countplot(data=datos, x='Churn')\n",
        "plt.title(\"Distribución de clientes según evasión (Churn)\")\n",
        "plt.xlabel(\"Churn (0=No, 1=Sí)\")\n",
        "plt.ylabel(\"Cantidad de clientes\")\n",
        "plt.show()\n"
      ],
      "metadata": {
        "id": "srpxH6J1SvI9",
        "outputId": "ca4a8c3b-b118-4c7e-c1b8-13205bb3b020",
        "colab": {
          "base_uri": "https://localhost:8080/",
          "height": 472
        }
      },
      "execution_count": 16,
      "outputs": [
        {
          "output_type": "display_data",
          "data": {
            "text/plain": [
              "<Figure size 640x480 with 1 Axes>"
            ],
            "image/png": "[encoded data removed]"
          },
          "metadata": {}
        }
      ]
    },
    {
      "cell_type": "markdown",
      "source": [
        "##📌 Evasión por tipo de contrato"
      ],
      "metadata": {
        "id": "ScFSc1BeS1lZ"
      }
    },
    {
      "cell_type": "code",
      "source": [
        "sns.countplot(data=datos, x='Contract', hue='Churn')\n",
        "plt.title(\"Evasión por tipo de contrato\")\n",
        "plt.xticks(rotation=30)\n",
        "plt.show()\n"
      ],
      "metadata": {
        "id": "KwLadlzKSv_8",
        "outputId": "7b87f972-d4f7-4c75-c016-2ab82125f738",
        "colab": {
          "base_uri": "https://localhost:8080/",
          "height": 527
        }
      },
      "execution_count": 17,
      "outputs": [
        {
          "output_type": "display_data",
          "data": {
            "text/plain": [
              "<Figure size 640x480 with 1 Axes>"
            ],
            "image/png": "[encoded data removed]"
          },
          "metadata": {}
        }
      ]
    },
    {
      "cell_type": "markdown",
      "source": [
        "##📌 Cargos totales por churn"
      ],
      "metadata": {
        "id": "lXzX16T_S-Pv"
      }
    },
    {
      "cell_type": "code",
      "source": [
        "sns.boxplot(data=datos, x='Churn', y='CargoTotal')\n",
        "plt.title(\"Distribución de Cargo Total según Churn\")\n",
        "plt.show()\n"
      ],
      "metadata": {
        "id": "KHVbUT0FSv05",
        "outputId": "cb503149-5fb4-4010-8ae4-02f53e479f81",
        "colab": {
          "base_uri": "https://localhost:8080/",
          "height": 472
        }
      },
      "execution_count": 18,
      "outputs": [
        {
          "output_type": "display_data",
          "data": {
            "text/plain": [
              "<Figure size 640x480 with 1 Axes>"
            ],
            "image/png": "[encoded data removed]"
          },
          "metadata": {}
        }
      ]
    },
    {
      "cell_type": "markdown",
      "source": [
        "#📄Informe final"
      ],
      "metadata": {
        "id": "v-WzfSvTmaw9"
      }
    },
    {
      "cell_type": "code",
      "source": [
        "from IPython.display import Markdown, display\n",
        "\n",
        "def generar_informe():\n",
        "    texto = \"\"\"\n",
        "# 📄 Informe Final – Análisis de Evasión de Clientes (Churn)\n",
        "\n",
        "## 🎯 Introducción\n",
        "\n",
        "El presente análisis tiene como objetivo identificar patrones asociados a la evasión de clientes (churn) en una compañía de telecomunicaciones. Detectar estos patrones es clave para desarrollar estrategias de retención y fidelización, aumentando la rentabilidad del negocio.\n",
        "\n",
        "---\n",
        "\n",
        "## 🧼 Limpieza y Tratamiento de Datos\n",
        "\n",
        "- Los datos fueron extraídos directamente desde una API pública (repositorio GitHub).\n",
        "- Se identificaron estructuras anidadas (`customer`, `phone`, `internet`, `account`) que fueron aplanadas para facilitar el análisis.\n",
        "- Se eliminaron registros con campos vacíos en la columna `Churn`.\n",
        "- Se convirtieron campos numéricos y se creó la variable **`Cuentas_Diarias`** como derivada del cargo mensual.\n",
        "- Se estandarizaron valores binarios (`Yes/No` → `1/0`) para su uso en modelos y visualizaciones.\n",
        "- Columnas clave fueron renombradas para mayor legibilidad: `CargoMensual`, `CargoTotal`, `TenureMeses`.\n",
        "\n",
        "---\n",
        "\n",
        "## 📊 Análisis Exploratorio de Datos\n",
        "\n",
        "### 🔹 Distribución General\n",
        "- La evasión (`Churn`) muestra una proporción significativa de clientes que abandonan la empresa.\n",
        "- La variable objetivo fue correctamente binarizada para facilitar segmentación y predicción.\n",
        "\n",
        "### 🔹 Variables Categóricas\n",
        "- El tipo de contrato muestra fuerte correlación con churn:\n",
        "  - **Contratos mensuales** tienen mayor tasa de evasión.\n",
        "  - **Contratos a largo plazo** muestran mayor fidelización.\n",
        "\n",
        "### 🔹 Variables Numéricas\n",
        "- Clientes con **mayor cargo mensual** tienden a mostrar mayor churn.\n",
        "- Clientes con **mayor tiempo de permanencia** (tenure) son menos propensos a cancelar.\n",
        "\n",
        "---\n",
        "\n",
        "## 🔎 Conclusiones e Insights\n",
        "\n",
        "- **El tipo de contrato es el principal predictor de evasión.**\n",
        "- **Clientes con cargos elevados y corto tiempo en la compañía son más propensos a cancelar.**\n",
        "- La mayoría de evasiones se concentran en contratos sin compromiso a largo plazo.\n",
        "\n",
        "---\n",
        "\n",
        "## 🧭 Recomendaciones Estratégicas\n",
        "\n",
        "- **Incentivar contratos anuales o bianuales**, con beneficios adicionales para nuevos clientes.\n",
        "- **Segmentar campañas de retención** para quienes tienen cargos mensuales altos.\n",
        "- **Crear alertas preventivas** con modelos predictivos para detectar riesgo de churn.\n",
        "\n",
        "---\n",
        "\n",
        "### ✅ Próximo paso sugerido\n",
        "Entrenar un modelo de clasificación (Logistic Regression, Random Forest, etc.) con estas variables para predecir la evasión y tomar decisiones proactivas.\n",
        "\n",
        "\"\"\"\n",
        "    display(Markdown(texto))\n",
        "\n",
        "generar_informe()\n"
      ],
      "metadata": {
        "id": "XMTac0YJmeK9",
        "colab": {
          "base_uri": "https://localhost:8080/",
          "height": 918
        },
        "outputId": "026827d0-ec90-4c20-8216-52ab4ed3a5c3"
      },
      "execution_count": 20,
      "outputs": [
        {
          "output_type": "display_data",
          "data": {
            "text/plain": [
              "<IPython.core.display.Markdown object>"
            ],
            "text/markdown": "\n# 📄 Informe Final – Análisis de Evasión de Clientes (Churn)\n\n## 🎯 Introducción\n\nEl presente análisis tiene como objetivo identificar patrones asociados a la evasión de clientes (churn) en una compañía de telecomunicaciones. Detectar estos patrones es clave para desarrollar estrategias de retención y fidelización, aumentando la rentabilidad del negocio.\n\n---\n\n## 🧼 Limpieza y Tratamiento de Datos\n\n- Los datos fueron extraídos directamente desde una API pública (repositorio GitHub).\n- Se identificaron estructuras anidadas (`customer`, `phone`, `internet`, `account`) que fueron aplanadas para facilitar el análisis.\n- Se eliminaron registros con campos vacíos en la columna `Churn`.\n- Se convirtieron campos numéricos y se creó la variable **`Cuentas_Diarias`** como derivada del cargo mensual.\n- Se estandarizaron valores binarios (`Yes/No` → `1/0`) para su uso en modelos y visualizaciones.\n- Columnas clave fueron renombradas para mayor legibilidad: `CargoMensual`, `CargoTotal`, `TenureMeses`.\n\n---\n\n## 📊 Análisis Exploratorio de Datos\n\n### 🔹 Distribución General\n- La evasión (`Churn`) muestra una proporción significativa de clientes que abandonan la empresa.\n- La variable objetivo fue correctamente binarizada para facilitar segmentación y predicción.\n\n### 🔹 Variables Categóricas\n- El tipo de contrato muestra fuerte correlación con churn:\n  - **Contratos mensuales** tienen mayor tasa de evasión.\n  - **Contratos a largo plazo** muestran mayor fidelización.\n\n### 🔹 Variables Numéricas\n- Clientes con **mayor cargo mensual** tienden a mostrar mayor churn.\n- Clientes con **mayor tiempo de permanencia** (tenure) son menos propensos a cancelar.\n\n---\n\n## 🔎 Conclusiones e Insights\n\n- **El tipo de contrato es el principal predictor de evasión.**\n- **Clientes con cargos elevados y corto tiempo en la compañía son más propensos a cancelar.**\n- La mayoría de evasiones se concentran en contratos sin compromiso a largo plazo.\n\n---\n\n## 🧭 Recomendaciones Estratégicas\n\n- **Incentivar contratos anuales o bianuales**, con beneficios adicionales para nuevos clientes.\n- **Segmentar campañas de retención** para quienes tienen cargos mensuales altos.\n- **Crear alertas preventivas** con modelos predictivos para detectar riesgo de churn.\n\n---\n\n### ✅ Próximo paso sugerido\nEntrenar un modelo de clasificación (Logistic Regression, Random Forest, etc.) con estas variables para predecir la evasión y tomar decisiones proactivas.\n\n"
          },
          "metadata": {}
        }
      ]
    }
  ]
}